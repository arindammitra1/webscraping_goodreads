{
 "cells": [
  {
   "cell_type": "markdown",
   "metadata": {},
   "source": [
    "# Webscraping Top 500 book details from [goodreads](https://www.goodreads.com/list/show/1.Best_Books_Ever?page=1) using Python\n",
    "### With BeautifulSOup and Requests\n",
    "##### Sep -Oct 2022\n",
    "<br>\n",
    "\n",
    "![](https://imgur.com/KJVdCcn.png)\n",
    "\n",
    "## Introduction \n",
    "Goodreads.com is a comprehensive list of top-rated books, as voted on by the general Goodreads community.\n",
    "\n",
    "We will use Python, BeautifulSoup and Requests to scrape first 5 pages and create list of top 500 books and some interesting information on them.\n",
    "<br>"
   ]
  },
  {
   "cell_type": "markdown",
   "metadata": {},
   "source": [
    "## Outline of the Project:\n",
    "\n",
    "#### Part A: Exploration and scrapping information from 1 page\n",
    "1. Download a single page from goodread.com and store it \n",
    "2. Scrape the stored page, and extract the required data from the page with BeautifulSoup\n",
    "\n",
    "#### Part B: Put things together - a Scalable code for any number of pages\n",
    "1. Create a dictionary to store the book information \n",
    "2. Write separate functions to scrape a particular information from the BeautifulSoup document, and add it to the dictionary\n",
    "2. Repeat this for any number of pages by appending new items to the dictionary\n",
    "3. Store this in a Panda detaframe\n",
    "4. Save dataframe to a csv file"
   ]
  },
  {
   "cell_type": "markdown",
   "metadata": {},
   "source": [
    "#### Setting up the project "
   ]
  },
  {
   "cell_type": "code",
   "execution_count": 3,
   "metadata": {},
   "outputs": [],
   "source": [
    "!pip install jovian --upgrade --quiet\n",
    "!pip install requests --upgrade --quiet\n",
    "!pip install beautifulsoup4 --upgrade --quiet"
   ]
  },
  {
   "cell_type": "code",
   "execution_count": 4,
   "metadata": {},
   "outputs": [],
   "source": [
    "import jovian\n",
    "import requests\n",
    "from bs4 import BeautifulSoup\n",
    "import pandas as pd"
   ]
  },
  {
   "cell_type": "markdown",
   "metadata": {},
   "source": [
    "## Part A: Exploration"
   ]
  },
  {
   "cell_type": "markdown",
   "metadata": {},
   "source": [
    "### Step 1: Download a single page from goodread.com and stroe it in a directory\n",
    "\n",
    "Let's begin with the first page - https://www.goodreads.com/list/show/1.Best_Books_Ever?page=1"
   ]
  },
  {
   "cell_type": "code",
   "execution_count": 8,
   "metadata": {},
   "outputs": [
    {
     "data": {
      "text/plain": [
       "<Response [200]>"
      ]
     },
     "execution_count": 8,
     "metadata": {},
     "output_type": "execute_result"
    }
   ],
   "source": [
    "# download the web page using requests\n",
    "response = requests.get('https://www.goodreads.com/list/show/1.Best_Books_Ever?page=1')\n",
    "\n",
    "#If response status is between 200-300, the download was successful\n",
    "response"
   ]
  },
  {
   "cell_type": "code",
   "execution_count": 9,
   "metadata": {},
   "outputs": [],
   "source": [
    "# capture the text content of the page from response\n",
    "page_contents = response.text"
   ]
  },
  {
   "cell_type": "code",
   "execution_count": 10,
   "metadata": {},
   "outputs": [
    {
     "data": {
      "text/plain": [
       "790778"
      ]
     },
     "execution_count": 10,
     "metadata": {},
     "output_type": "execute_result"
    }
   ],
   "source": [
    "# check the lenght of the page text\n",
    "len(page_contents)"
   ]
  },
  {
   "cell_type": "code",
   "execution_count": 21,
   "metadata": {},
   "outputs": [
    {
     "data": {
      "text/plain": [
       "'<!DOCTYPE html>\\n<html class=\"desktop withSiteHeaderTopFullImage\\n\">\\n<head>\\n  <title>Best Books Ever (93804 books)</title>\\n\\n<meta content=\\'92,311 books based on 227927 votes: The Hunger Games by Suzanne Collins, Harry Potter and the Order of the Phoenix by J.K. Rowling, Pride and Prejudice b...\\' name=\\'description\\'>\\n<meta content=\\'telephone=no\\' name=\\'format-detection\\'>\\n<link href=\\'https://www.goodreads.com/list/show/1.Best_Books_Ever\\' rel=\\'canonical\\'>\\n\\n\\n\\n    <script type=\"text/javascript\"> var ue_t'"
      ]
     },
     "execution_count": 21,
     "metadata": {},
     "output_type": "execute_result"
    }
   ],
   "source": [
    "# check a small sample of the page\n",
    "page_contents[:500]"
   ]
  },
  {
   "cell_type": "code",
   "execution_count": 13,
   "metadata": {},
   "outputs": [],
   "source": [
    "# Save the page as html to avoid scrapping multiple times while experimenting\n",
    "with open('best_books_001.html', 'w', encoding=\"utf-8\") as file:\n",
    "    file.write(page_contents)"
   ]
  },
  {
   "cell_type": "code",
   "execution_count": 14,
   "metadata": {},
   "outputs": [],
   "source": [
    "# read it html page to scrape information\n",
    "with open('best_books_001.html', 'r') as f:\n",
    "    html_source = f.read()"
   ]
  },
  {
   "cell_type": "code",
   "execution_count": 26,
   "metadata": {},
   "outputs": [
    {
     "data": {
      "text/plain": [
       "'<!DOCTYPE html>\\n<html class=\"desktop withSiteHeaderTopFullImage\\n\">\\n<head>\\n  <title>Best Books Ever (93804 books)</title>\\n\\n<meta content=\\'92,311 books based on 227927 votes: The Hunger Games by Suzanne Collins, Harry Potter and the Order of the Phoenix by J.K. Rowling, Pride and Prejudice b...\\' name=\\'description\\'>\\n<meta content=\\'telephone=no\\' name=\\'format-detection\\'>\\n<link href=\\'https://www.goodreads.com/list/show/1.Best_Books_Ever\\' rel=\\'canonical\\'>\\n\\n\\n\\n    <script type=\"text/javascript\"> var ue_t'"
      ]
     },
     "execution_count": 26,
     "metadata": {},
     "output_type": "execute_result"
    }
   ],
   "source": [
    "#doublecheck the file before exploring the tags. It contrins the webpage text as 'str' \n",
    "html_source[:500]"
   ]
  },
  {
   "cell_type": "code",
   "execution_count": 18,
   "metadata": {},
   "outputs": [],
   "source": [
    "# The BeautifulSoup returns a document which we shall use to extract information\n",
    "doc = BeautifulSoup(html_source, 'html.parser')"
   ]
  },
  {
   "cell_type": "code",
   "execution_count": 29,
   "metadata": {},
   "outputs": [
    {
     "data": {
      "text/plain": [
       "bs4.BeautifulSoup"
      ]
     },
     "execution_count": 29,
     "metadata": {},
     "output_type": "execute_result"
    }
   ],
   "source": [
    "# validation: return datatype is bs4.BeautifulSoup\n",
    "type(doc)"
   ]
  },
  {
   "cell_type": "code",
   "execution_count": 30,
   "metadata": {},
   "outputs": [
    {
     "data": {
      "text/plain": [
       "['<!DOCTYPE html>',\n",
       " '<html class=\"desktop withSiteHeaderTopFullImage\">',\n",
       " ' <head>',\n",
       " '  <title>',\n",
       " '   Best Books Ever (93804 books)',\n",
       " '  </title>',\n",
       " '  <meta content=\"92,311 books based on 227927 votes: The Hunger Games by Suzanne Collins, Harry Potter and the Order of the Phoenix by J.K. Rowling, Pride and Prejudice b...\" name=\"description\"/>',\n",
       " '  <meta content=\"telephone=no\" name=\"format-detection\"/>',\n",
       " '  <link href=\"https://www.goodreads.com/list/show/1.Best_Books_Ever\" rel=\"canonical\"/>',\n",
       " '  <script type=\"text/javascript\">']"
      ]
     },
     "execution_count": 30,
     "metadata": {},
     "output_type": "execute_result"
    }
   ],
   "source": [
    "#validation: inspect first 10 lines of the returned doc\n",
    "doc.prettify().splitlines()[:10]"
   ]
  },
  {
   "cell_type": "markdown",
   "metadata": {},
   "source": [
    "### Step 2: Extract the required data from the page with BeautifulSoup\n",
    "<br>\n",
    "<div>\n",
    "<img src=\"https://imgur.com/obXjCXN.png\" width=\"700\"/>\n",
    "</div>\n",
    "\n",
    "We want to get the following for each book title\n",
    "1. **Book Title -** Title of the book\n",
    "2. **Author Name -** Name of the Author of the book\n",
    "3. **Avg. Rating -** Users have rated the book ranging from 1-5 stars. We take the average rating.\n",
    "4. **Number of Ratings -** Number of users rated this title.\n",
    "5. **Score -** Total score is based on multiple factors, including the number of people who have voted for it and how highly those voters ranked the book.\n",
    "6. **Number of people voted -** Count of people who have voted for this book\n",
    "7. **Book's URL -** Direct link to the book to find more detail about it\n",
    "8. **Author's URL -** Direct link to the author's page to find more detail about his/ her credentials.\n",
    "\n",
    "\n",
    "On visually inspecting the web-page, we can find the tags and classes that contains the necessary information for our use case.\n",
    "<br><br>\n",
    "<div>\n",
    "<img src=\"https://imgur.com/a6V7KRQ.png\" width=\"700\"/>\n",
    "</div>"
   ]
  },
  {
   "cell_type": "markdown",
   "metadata": {},
   "source": [
    "#### Book Title"
   ]
  },
  {
   "cell_type": "code",
   "execution_count": 36,
   "metadata": {},
   "outputs": [
    {
     "data": {
      "text/plain": [
       "100"
      ]
     },
     "execution_count": 36,
     "metadata": {},
     "output_type": "execute_result"
    }
   ],
   "source": [
    "# get all the book titles in the page\n",
    "book_titles = doc.find_all('a', class_='bookTitle')\n",
    "\n",
    "# Validation: check if there are 100 book titles\n",
    "len(book_titles)"
   ]
  },
  {
   "cell_type": "code",
   "execution_count": 33,
   "metadata": {},
   "outputs": [
    {
     "data": {
      "text/plain": [
       "[<a class=\"bookTitle\" href=\"/book/show/2767052-the-hunger-games\" itemprop=\"url\">\n",
       " <span aria-level=\"4\" itemprop=\"name\" role=\"heading\">The Hunger Games (The Hunger Games, #1)</span>\n",
       " </a>,\n",
       " <a class=\"bookTitle\" href=\"/book/show/2.Harry_Potter_and_the_Order_of_the_Phoenix\" itemprop=\"url\">\n",
       " <span aria-level=\"4\" itemprop=\"name\" role=\"heading\">Harry Potter and the Order of the Phoenix (Harry Potter, #5)</span>\n",
       " </a>,\n",
       " <a class=\"bookTitle\" href=\"/book/show/1885.Pride_and_Prejudice\" itemprop=\"url\">\n",
       " <span aria-level=\"4\" itemprop=\"name\" role=\"heading\">Pride and Prejudice</span>\n",
       " </a>]"
      ]
     },
     "execution_count": 33,
     "metadata": {},
     "output_type": "execute_result"
    }
   ],
   "source": [
    "# check few book titles \n",
    "book_titles[:3]"
   ]
  },
  {
   "cell_type": "code",
   "execution_count": 66,
   "metadata": {},
   "outputs": [
    {
     "data": {
      "text/plain": [
       "'The Hunger Games (The Hunger Games, #1)'"
      ]
     },
     "execution_count": 66,
     "metadata": {},
     "output_type": "execute_result"
    }
   ],
   "source": [
    "# for the first book name, get the exact title\n",
    "book_title = book_titles[0].text.strip()\n",
    "book_title"
   ]
  },
  {
   "cell_type": "markdown",
   "metadata": {},
   "source": [
    "#### Author Name"
   ]
  },
  {
   "cell_type": "code",
   "execution_count": 37,
   "metadata": {},
   "outputs": [
    {
     "data": {
      "text/plain": [
       "100"
      ]
     },
     "execution_count": 37,
     "metadata": {},
     "output_type": "execute_result"
    }
   ],
   "source": [
    "# get all the author names in the page\n",
    "author_names = doc.find_all('a', class_='authorName')\n",
    "\n",
    "# Validation: check if there are 100 author names\n",
    "len(author_names)"
   ]
  },
  {
   "cell_type": "code",
   "execution_count": 38,
   "metadata": {},
   "outputs": [
    {
     "data": {
      "text/plain": [
       "'Suzanne Collins'"
      ]
     },
     "execution_count": 38,
     "metadata": {},
     "output_type": "execute_result"
    }
   ],
   "source": [
    "# for the first author name, get the exact first and last name\n",
    "author_name = author_names[0].text.strip()\n",
    "author_name"
   ]
  },
  {
   "cell_type": "markdown",
   "metadata": {},
   "source": [
    "#### Avg. Rating"
   ]
  },
  {
   "cell_type": "code",
   "execution_count": 48,
   "metadata": {},
   "outputs": [
    {
     "name": "stdout",
     "output_type": "stream",
     "text": [
      "100\n"
     ]
    }
   ],
   "source": [
    "# get all the ratings names in the page\n",
    "ratings_and_raters = doc.find_all('span', class_='minirating')\n",
    "\n",
    "# Validation: check if there are 100 ratings\n",
    "print(len(ratings_and_raters))"
   ]
  },
  {
   "cell_type": "code",
   "execution_count": 63,
   "metadata": {},
   "outputs": [
    {
     "data": {
      "text/plain": [
       "'4.32 avg rating — 7,587,110 ratings'"
      ]
     },
     "execution_count": 63,
     "metadata": {},
     "output_type": "execute_result"
    }
   ],
   "source": [
    "# avg rating and number of ratings for the first book\n",
    "ratings_and_raters_text = ratings_and_raters[0].text.strip()\n",
    "ratings_and_raters_text"
   ]
  },
  {
   "cell_type": "code",
   "execution_count": 56,
   "metadata": {
    "scrolled": false
   },
   "outputs": [
    {
     "data": {
      "text/plain": [
       "4.32"
      ]
     },
     "execution_count": 56,
     "metadata": {},
     "output_type": "execute_result"
    }
   ],
   "source": [
    "# Extract the two numeric parts, avg rating and number of ratings, from the string ratings_and_raters_text\n",
    "\n",
    "# A helper function to convert text to number\n",
    "# note that it hadles decimals and comma seperated strings\n",
    "def stringToNumber(text):\n",
    "    import re\n",
    "    return re.findall(r\"[0-9,.]+\", text)\n",
    "\n",
    "# Rating of the first book, from the first elment in ratings_and_raters_text list\n",
    "rating = float(stringToNumber(ratings_and_raters_text)[0])\n",
    "rating"
   ]
  },
  {
   "cell_type": "markdown",
   "metadata": {},
   "source": [
    "#### Number of Ratings"
   ]
  },
  {
   "cell_type": "code",
   "execution_count": 57,
   "metadata": {},
   "outputs": [
    {
     "data": {
      "text/plain": [
       "7587110"
      ]
     },
     "execution_count": 57,
     "metadata": {},
     "output_type": "execute_result"
    }
   ],
   "source": [
    "# Number of ratings of the first book, from the second elment in ratings_and_raters_text list\n",
    "rater_count = int((stringToNumber(ratings_and_raters_text)[1]).replace(',', ''))\n",
    "rater_count"
   ]
  },
  {
   "cell_type": "markdown",
   "metadata": {},
   "source": [
    "#### Score"
   ]
  },
  {
   "cell_type": "code",
   "execution_count": 59,
   "metadata": {},
   "outputs": [
    {
     "data": {
      "text/plain": [
       "'score: 3,337,490,\\n              and\\n33,984 people voted'"
      ]
     },
     "execution_count": 59,
     "metadata": {},
     "output_type": "execute_result"
    }
   ],
   "source": [
    "# score and votes for the first book\n",
    "scores_and_votes = doc.find_all('span', class_='smallText uitext')\n",
    "scores_and_votes_text = scores_and_votes[0].text.strip()\n",
    "scores_and_votes_text"
   ]
  },
  {
   "cell_type": "code",
   "execution_count": 60,
   "metadata": {},
   "outputs": [
    {
     "data": {
      "text/plain": [
       "3337490"
      ]
     },
     "execution_count": 60,
     "metadata": {},
     "output_type": "execute_result"
    }
   ],
   "source": [
    "# Extract the two numeric parts, score and votes, from the string scores_and_votes_text\n",
    "socre = int(stringToNumber(scores_and_votes_text)[0].replace(',', ''))\n",
    "socre"
   ]
  },
  {
   "cell_type": "markdown",
   "metadata": {},
   "source": [
    "#### Number of people voted"
   ]
  },
  {
   "cell_type": "code",
   "execution_count": 61,
   "metadata": {},
   "outputs": [
    {
     "data": {
      "text/plain": [
       "33984"
      ]
     },
     "execution_count": 61,
     "metadata": {},
     "output_type": "execute_result"
    }
   ],
   "source": [
    "votes = int(stringToNumber(scores_and_votes_text)[1].replace(',', ''))\n",
    "votes"
   ]
  },
  {
   "cell_type": "markdown",
   "metadata": {},
   "source": [
    "#### Book's URL"
   ]
  },
  {
   "cell_type": "code",
   "execution_count": 64,
   "metadata": {},
   "outputs": [
    {
     "data": {
      "text/plain": [
       "'https://www.goodreads.com/book/show/2767052-the-hunger-games'"
      ]
     },
     "execution_count": 64,
     "metadata": {},
     "output_type": "execute_result"
    }
   ],
   "source": [
    "# as the the scrapped data, only a part of book title's url is present, we have to add it with the domain name\n",
    "base_url = 'https://www.goodreads.com'\n",
    "\n",
    "# from the first book title in 'book_titles' list, get the book url\n",
    "book_title_url = base_url + book_titles[0]['href']\n",
    "book_title_url"
   ]
  },
  {
   "cell_type": "markdown",
   "metadata": {},
   "source": [
    "#### Author's URL"
   ]
  },
  {
   "cell_type": "code",
   "execution_count": 78,
   "metadata": {},
   "outputs": [
    {
     "data": {
      "text/plain": [
       "'https://www.goodreads.com/author/show/153394.Suzanne_Collins'"
      ]
     },
     "execution_count": 78,
     "metadata": {},
     "output_type": "execute_result"
    }
   ],
   "source": [
    "# from the first authoer name in 'author names' list, get the url\n",
    "author_name_url = author_names[0]['href']\n",
    "author_name_url"
   ]
  },
  {
   "cell_type": "markdown",
   "metadata": {},
   "source": [
    "## Part B: Putting things together"
   ]
  },
  {
   "cell_type": "markdown",
   "metadata": {},
   "source": [
    "### Step 1: Create a dictionary to store the book information\n",
    "\n",
    "We want to capture the following 8 attributes for each book in a page.\n",
    "\n",
    "<div>\n",
    "<img src=\"https://imgur.com/3pwCofL.png\" width=\"300\"/>\n",
    "</div>\n",
    "\n",
    "\n",
    "*Code snippet:*\n",
    "\n",
    "```\n",
    "    book_info = {\n",
    "        'title': [],\n",
    "        'author': [],\n",
    "        'rating': [],\n",
    "        'raters': [],\n",
    "        'score': [],\n",
    "        'votes': [],\n",
    "        'title_url': [],\n",
    "        'author_url': []\n",
    "    }\n",
    " ```"
   ]
  },
  {
   "cell_type": "markdown",
   "metadata": {},
   "source": [
    "### Step 2: Write separate functions to scrape a particular information from the BeautifulSoup document, and add it to the dictionary\n",
    "\n",
    "\n",
    "For a single page, we scraped all the 100 titles as `book_titles = doc.find_all('a', class_='bookTitle')`. And to access one title a time, checked it's position in the list as `book_title = book_titles[0].text.strip()`. If we had to manually, we have to do this for `book_titles[0]` , `book_titles[0]`, .. \n",
    "\n",
    "Now to generalize it, we define a variable `i` that will represent all the titles a single page (that is 100) in the `book_titles` resultset. The `i` is a substitute for `book_titles[0]` in the above case in a function.\n",
    "\n",
    "We shall add keep adding the new titles to the list until we reach the end of list at 100th book.\n",
    "\n",
    "*Code snippet:*\n",
    "```\n",
    "def get_book_title(doc):\n",
    "    book_titles= doc.find_all('a', class_='bookTitle')\n",
    "    book_title = []\n",
    "    for i in book_titles:\n",
    "        book_title.append(i.text.strip())\n",
    "    return book_title\n",
    "```\n",
    "    \n",
    "Further we write other functions like `get_author_name()`, `get_ratings()`, `get_rater_count()` etc.   "
   ]
  },
  {
   "cell_type": "markdown",
   "metadata": {},
   "source": [
    "### Step 3: Repeat this for any number of pages by extending the dictionary\n",
    "\n",
    "To get the full list, we have to scrape 77 pages. However, as a proof of concept, we shall scrape first 5 pages. \n",
    "\n",
    "<div>\n",
    "<img src=\"https://imgur.com/l6ul5cC.png\" width=\"900\"/>\n",
    "</div>\n",
    "\n",
    "\n",
    "Thus far we have managed to scrap all the 8 attributes of interest from a single page and stored them in a dictionary. \n",
    "Now we shall repeat this for the next page and concatentate the new dictionary with `extend()`.\n",
    "\n",
    "\n",
    "*Code snippet:*\n",
    "\n",
    "```  \n",
    "    for i in range(1, n_pages+1): \n",
    "        doc = get_book_list_page(i)\n",
    "        book_info['title'].extend(get_book_title(doc))\n",
    "        book_info['author'].extend(get_author_name(doc))\n",
    "        book_info['rating'].extend(get_ratings(doc))\n",
    "        book_info['raters'].extend(get_rater_count(doc))\n",
    "        book_info['score'].extend(get_score(doc))\n",
    "        book_info['votes'].extend(get_voter_count(doc))\n",
    "        book_info['title_url'].extend(get_title_url(doc))\n",
    "        book_info['author_url'].extend(get_author_url(doc))\n",
    "    return book_info\n",
    "\n",
    "```"
   ]
  },
  {
   "cell_type": "markdown",
   "metadata": {},
   "source": [
    "##### Special Note: In Python dictionary, the `append()` function is used to add elements to the keys in the dictionary. In the dictionary `extend()` means to concatentates the first dictionary with another dictionary."
   ]
  },
  {
   "cell_type": "markdown",
   "metadata": {},
   "source": [
    "### Executing steps 1, 2 and 3"
   ]
  },
  {
   "cell_type": "code",
   "execution_count": 84,
   "metadata": {},
   "outputs": [],
   "source": [
    "# -------------------------------------------------------------------------------------------------------------\n",
    "# Function to scrape a given page and return a bs doc object \n",
    "# doc object contains several properties and methods for extracting information from the HTML document\n",
    "# -------------------------------------------------------------------------------------------------------------\n",
    "# n = the page number to scrape \n",
    "def get_book_list_page(n):\n",
    "    # Construct the URL\n",
    "    page_url = 'https://www.goodreads.com/list/show/1.Best_Books_Ever?page='+str(n)\n",
    "\n",
    "    # Get the HTML page content using requests\n",
    "    response = requests.get(page_url)\n",
    "\n",
    "    # Ensure that the reponse is valid\n",
    "    if response.ok == False:\n",
    "        print('Status code:', response.status_code)\n",
    "        raise Exception('Failed to fetch web page ' + page_url)\n",
    "\n",
    "    # Construct a beautiful soup document object to parse the document\n",
    "    bs_doc = BeautifulSoup(response.text, 'html.parser')\n",
    "    return bs_doc\n",
    "\n",
    "# -------------------------------------------------------------------------------------------------------------\n",
    "#  We will create a dictionary to keep record of 8 key attrbutes for each book title\n",
    "#  These functions will append new elements to the dictionary for each of these key attributes\n",
    "# -------------------------------------------------------------------------------------------------------------\n",
    "def stringToNumber(text):\n",
    "    import re\n",
    "    return re.findall(r\"[0-9,.]+\", text)\n",
    "\n",
    "\n",
    "def get_book_title(doc):\n",
    "    book_titles= doc.find_all('a', class_='bookTitle')\n",
    "    book_title = []\n",
    "    for i in book_titles:\n",
    "        book_title.append(i.text.strip())\n",
    "    return book_title\n",
    "\n",
    "\n",
    "def get_author_name(doc):\n",
    "    author_names = doc.find_all('a', class_='authorName')\n",
    "    author_name = []\n",
    "    for i in author_names:\n",
    "        author_name.append(i.text.strip())\n",
    "    return author_name\n",
    "\n",
    "\n",
    "def get_title_url(doc):\n",
    "    book_titles = doc.find_all('a', class_='bookTitle')\n",
    "    book_title_url = []\n",
    "    for i in book_titles:\n",
    "        book_title_url.append('https://www.goodreads.com'+i['href'])\n",
    "    return book_title_url\n",
    "\n",
    "\n",
    "def get_author_url(doc):\n",
    "    author_names = doc.find_all('a', class_='authorName')\n",
    "    author_name_url = []\n",
    "    for i in author_names:\n",
    "        author_name_url.append(i['href'])\n",
    "    return author_name_url\n",
    "\n",
    "\n",
    "def get_ratings(doc):\n",
    "    ratings_and_raters = doc.find_all('span', class_='minirating')\n",
    "    rating = []\n",
    "    for i in ratings_and_raters:\n",
    "        rating.append(float(stringToNumber(i.text.strip())[0]))\n",
    "    return rating    \n",
    "\n",
    "\n",
    "def get_rater_count(doc):\n",
    "    ratings_and_raters = doc.find_all('span', class_='minirating')\n",
    "    raters = []\n",
    "    for i in ratings_and_raters:\n",
    "        raters.append(int((stringToNumber(i.text.strip())[1]).replace(',', '')))\n",
    "    return raters    \n",
    "\n",
    "\n",
    "def get_score(doc):\n",
    "    scores_and_votes = doc.find_all('span', class_='smallText uitext')\n",
    "    score = []\n",
    "    for i in scores_and_votes:\n",
    "        score.append(int(stringToNumber(i.text.strip())[0].replace(',', '')))\n",
    "    return score\n",
    "\n",
    "\n",
    "def get_voter_count(doc):\n",
    "    scores_and_votes = doc.find_all('span', class_='smallText uitext')\n",
    "    votes = []\n",
    "    for i in scores_and_votes:\n",
    "        votes.append(int(stringToNumber(i.text.strip())[1].replace(',', '')))\n",
    "    return votes\n",
    "\n",
    "\n",
    "# -------------------------------------------------------------------------------------------------------------\n",
    "# Scarape the first n pages\n",
    "# -------------------------------------------------------------------------------------------------------------\n",
    "def scrape_page(n_pages):\n",
    "\n",
    "    # create a dictionary to hold all the information about a book\n",
    "    book_info = {\n",
    "        'title': [],\n",
    "        'author': [],\n",
    "        'rating': [],\n",
    "        'raters': [],\n",
    "        'score': [],\n",
    "        'votes': [],\n",
    "        'title_url': [],\n",
    "        'author_url': []\n",
    "    }\n",
    "\n",
    "    # For every page, from 1 to the limit we want (here 5), run get_book_list_page() to extract info for 1 page at a time\n",
    "    # new page results get appened to the old list\n",
    "    for i in range(1, n_pages+1): \n",
    "        # get the doc object of a page        \n",
    "        doc = get_book_list_page(i)\n",
    "        \n",
    "        # pass the doc object to functions to extract the 8 attributes from the page, 1 attrbute at a time         \n",
    "        book_info['title'].extend(get_book_title(doc))\n",
    "        book_info['author'].extend(get_author_name(doc))\n",
    "        book_info['rating'].extend(get_ratings(doc))\n",
    "        book_info['raters'].extend(get_rater_count(doc))\n",
    "        book_info['score'].extend(get_score(doc))\n",
    "        book_info['votes'].extend(get_voter_count(doc))\n",
    "        book_info['title_url'].extend(get_title_url(doc))\n",
    "        book_info['author_url'].extend(get_author_url(doc))\n",
    "    return book_info"
   ]
  },
  {
   "cell_type": "code",
   "execution_count": 69,
   "metadata": {},
   "outputs": [],
   "source": [
    "#Scrape first 5 pages to list top 500 book titles\n",
    "book_list = scrape_page(5)"
   ]
  },
  {
   "cell_type": "markdown",
   "metadata": {},
   "source": [
    "### Step 4: Store this in a Panda `detaframe`"
   ]
  },
  {
   "cell_type": "code",
   "execution_count": 76,
   "metadata": {},
   "outputs": [
    {
     "data": {
      "text/html": [
       "<div>\n",
       "<style scoped>\n",
       "    .dataframe tbody tr th:only-of-type {\n",
       "        vertical-align: middle;\n",
       "    }\n",
       "\n",
       "    .dataframe tbody tr th {\n",
       "        vertical-align: top;\n",
       "    }\n",
       "\n",
       "    .dataframe thead th {\n",
       "        text-align: right;\n",
       "    }\n",
       "</style>\n",
       "<table border=\"1\" class=\"dataframe\">\n",
       "  <thead>\n",
       "    <tr style=\"text-align: right;\">\n",
       "      <th></th>\n",
       "      <th>title</th>\n",
       "      <th>author</th>\n",
       "      <th>rating</th>\n",
       "      <th>raters</th>\n",
       "      <th>score</th>\n",
       "      <th>votes</th>\n",
       "      <th>title_url</th>\n",
       "      <th>author_url</th>\n",
       "    </tr>\n",
       "  </thead>\n",
       "  <tbody>\n",
       "    <tr>\n",
       "      <th>0</th>\n",
       "      <td>The Hunger Games (The Hunger Games, #1)</td>\n",
       "      <td>Suzanne Collins</td>\n",
       "      <td>4.32</td>\n",
       "      <td>7587357</td>\n",
       "      <td>3337590</td>\n",
       "      <td>33985</td>\n",
       "      <td>https://www.goodreads.com/book/show/2767052-th...</td>\n",
       "      <td>https://www.goodreads.com/author/show/153394.S...</td>\n",
       "    </tr>\n",
       "    <tr>\n",
       "      <th>1</th>\n",
       "      <td>Harry Potter and the Order of the Phoenix (Har...</td>\n",
       "      <td>J.K. Rowling</td>\n",
       "      <td>4.50</td>\n",
       "      <td>3012607</td>\n",
       "      <td>2882849</td>\n",
       "      <td>29461</td>\n",
       "      <td>https://www.goodreads.com/book/show/2.Harry_Po...</td>\n",
       "      <td>https://www.goodreads.com/author/show/1077326....</td>\n",
       "    </tr>\n",
       "    <tr>\n",
       "      <th>2</th>\n",
       "      <td>Pride and Prejudice</td>\n",
       "      <td>Jane Austen</td>\n",
       "      <td>4.28</td>\n",
       "      <td>3729497</td>\n",
       "      <td>2354188</td>\n",
       "      <td>24200</td>\n",
       "      <td>https://www.goodreads.com/book/show/1885.Pride...</td>\n",
       "      <td>https://www.goodreads.com/author/show/1265.Jan...</td>\n",
       "    </tr>\n",
       "    <tr>\n",
       "      <th>3</th>\n",
       "      <td>To Kill a Mockingbird</td>\n",
       "      <td>Harper Lee</td>\n",
       "      <td>4.27</td>\n",
       "      <td>5425627</td>\n",
       "      <td>2245706</td>\n",
       "      <td>22936</td>\n",
       "      <td>https://www.goodreads.com/book/show/2657.To_Ki...</td>\n",
       "      <td>https://www.goodreads.com/author/show/1825.Har...</td>\n",
       "    </tr>\n",
       "    <tr>\n",
       "      <th>4</th>\n",
       "      <td>The Book Thief</td>\n",
       "      <td>Markus Zusak</td>\n",
       "      <td>4.39</td>\n",
       "      <td>2245793</td>\n",
       "      <td>1600888</td>\n",
       "      <td>16486</td>\n",
       "      <td>https://www.goodreads.com/book/show/19063.The_...</td>\n",
       "      <td>https://www.goodreads.com/author/show/11466.Ma...</td>\n",
       "    </tr>\n",
       "    <tr>\n",
       "      <th>...</th>\n",
       "      <td>...</td>\n",
       "      <td>...</td>\n",
       "      <td>...</td>\n",
       "      <td>...</td>\n",
       "      <td>...</td>\n",
       "      <td>...</td>\n",
       "      <td>...</td>\n",
       "      <td>...</td>\n",
       "    </tr>\n",
       "    <tr>\n",
       "      <th>495</th>\n",
       "      <td>Untamed (House of Night, #4)</td>\n",
       "      <td>P.C. Cast</td>\n",
       "      <td>3.94</td>\n",
       "      <td>227916</td>\n",
       "      <td>20937</td>\n",
       "      <td>272</td>\n",
       "      <td>https://www.goodreads.com/book/show/2866718-un...</td>\n",
       "      <td>https://www.goodreads.com/author/show/17015.P_...</td>\n",
       "    </tr>\n",
       "    <tr>\n",
       "      <th>496</th>\n",
       "      <td>Voyager (Outlander, #3)</td>\n",
       "      <td>Diana Gabaldon</td>\n",
       "      <td>4.38</td>\n",
       "      <td>286993</td>\n",
       "      <td>20925</td>\n",
       "      <td>268</td>\n",
       "      <td>https://www.goodreads.com/book/show/10987.Voyager</td>\n",
       "      <td>https://www.goodreads.com/author/show/3617.Dia...</td>\n",
       "    </tr>\n",
       "    <tr>\n",
       "      <th>497</th>\n",
       "      <td>The Jungle</td>\n",
       "      <td>Upton Sinclair</td>\n",
       "      <td>3.76</td>\n",
       "      <td>137570</td>\n",
       "      <td>20917</td>\n",
       "      <td>291</td>\n",
       "      <td>https://www.goodreads.com/book/show/41681.The_...</td>\n",
       "      <td>https://www.goodreads.com/author/show/23510.Up...</td>\n",
       "    </tr>\n",
       "    <tr>\n",
       "      <th>498</th>\n",
       "      <td>Everything is Illuminated</td>\n",
       "      <td>Jonathan Safran Foer</td>\n",
       "      <td>3.89</td>\n",
       "      <td>174255</td>\n",
       "      <td>20674</td>\n",
       "      <td>255</td>\n",
       "      <td>https://www.goodreads.com/book/show/256566.Eve...</td>\n",
       "      <td>https://www.goodreads.com/author/show/2617.Jon...</td>\n",
       "    </tr>\n",
       "    <tr>\n",
       "      <th>499</th>\n",
       "      <td>I, Claudius (Claudius, #1)</td>\n",
       "      <td>Robert Graves</td>\n",
       "      <td>4.23</td>\n",
       "      <td>62588</td>\n",
       "      <td>20429</td>\n",
       "      <td>277</td>\n",
       "      <td>https://www.goodreads.com/book/show/18765.I_Cl...</td>\n",
       "      <td>https://www.goodreads.com/author/show/3012988....</td>\n",
       "    </tr>\n",
       "  </tbody>\n",
       "</table>\n",
       "<p>500 rows × 8 columns</p>\n",
       "</div>"
      ],
      "text/plain": [
       "                                                 title                author  \\\n",
       "0              The Hunger Games (The Hunger Games, #1)       Suzanne Collins   \n",
       "1    Harry Potter and the Order of the Phoenix (Har...          J.K. Rowling   \n",
       "2                                  Pride and Prejudice           Jane Austen   \n",
       "3                                To Kill a Mockingbird            Harper Lee   \n",
       "4                                       The Book Thief          Markus Zusak   \n",
       "..                                                 ...                   ...   \n",
       "495                       Untamed (House of Night, #4)             P.C. Cast   \n",
       "496                            Voyager (Outlander, #3)        Diana Gabaldon   \n",
       "497                                         The Jungle        Upton Sinclair   \n",
       "498                          Everything is Illuminated  Jonathan Safran Foer   \n",
       "499                         I, Claudius (Claudius, #1)         Robert Graves   \n",
       "\n",
       "     rating   raters    score  votes  \\\n",
       "0      4.32  7587357  3337590  33985   \n",
       "1      4.50  3012607  2882849  29461   \n",
       "2      4.28  3729497  2354188  24200   \n",
       "3      4.27  5425627  2245706  22936   \n",
       "4      4.39  2245793  1600888  16486   \n",
       "..      ...      ...      ...    ...   \n",
       "495    3.94   227916    20937    272   \n",
       "496    4.38   286993    20925    268   \n",
       "497    3.76   137570    20917    291   \n",
       "498    3.89   174255    20674    255   \n",
       "499    4.23    62588    20429    277   \n",
       "\n",
       "                                             title_url  \\\n",
       "0    https://www.goodreads.com/book/show/2767052-th...   \n",
       "1    https://www.goodreads.com/book/show/2.Harry_Po...   \n",
       "2    https://www.goodreads.com/book/show/1885.Pride...   \n",
       "3    https://www.goodreads.com/book/show/2657.To_Ki...   \n",
       "4    https://www.goodreads.com/book/show/19063.The_...   \n",
       "..                                                 ...   \n",
       "495  https://www.goodreads.com/book/show/2866718-un...   \n",
       "496  https://www.goodreads.com/book/show/10987.Voyager   \n",
       "497  https://www.goodreads.com/book/show/41681.The_...   \n",
       "498  https://www.goodreads.com/book/show/256566.Eve...   \n",
       "499  https://www.goodreads.com/book/show/18765.I_Cl...   \n",
       "\n",
       "                                            author_url  \n",
       "0    https://www.goodreads.com/author/show/153394.S...  \n",
       "1    https://www.goodreads.com/author/show/1077326....  \n",
       "2    https://www.goodreads.com/author/show/1265.Jan...  \n",
       "3    https://www.goodreads.com/author/show/1825.Har...  \n",
       "4    https://www.goodreads.com/author/show/11466.Ma...  \n",
       "..                                                 ...  \n",
       "495  https://www.goodreads.com/author/show/17015.P_...  \n",
       "496  https://www.goodreads.com/author/show/3617.Dia...  \n",
       "497  https://www.goodreads.com/author/show/23510.Up...  \n",
       "498  https://www.goodreads.com/author/show/2617.Jon...  \n",
       "499  https://www.goodreads.com/author/show/3012988....  \n",
       "\n",
       "[500 rows x 8 columns]"
      ]
     },
     "execution_count": 76,
     "metadata": {},
     "output_type": "execute_result"
    }
   ],
   "source": [
    "# create a dataframe\n",
    "book_list_df = pd.DataFrame(book_list)\n",
    "book_list_df"
   ]
  },
  {
   "cell_type": "markdown",
   "metadata": {},
   "source": [
    "### Step 5: Save `dataframe` to a csv file"
   ]
  },
  {
   "cell_type": "code",
   "execution_count": 72,
   "metadata": {},
   "outputs": [],
   "source": [
    "# convert dataframe to a csv file\n",
    "book_list_df.to_csv('book_list.csv',index=None)"
   ]
  },
  {
   "cell_type": "markdown",
   "metadata": {},
   "source": [
    "## Extra: Some basic EDA\n",
    "\n",
    "Check for any corelation between variables."
   ]
  },
  {
   "cell_type": "code",
   "execution_count": 79,
   "metadata": {},
   "outputs": [],
   "source": [
    "# Install for plotting\n",
    "!pip install matplotlib --upgrade --quiet\n",
    "!pip install seaborn --upgrade --quiet"
   ]
  },
  {
   "cell_type": "code",
   "execution_count": 81,
   "metadata": {},
   "outputs": [
    {
     "name": "stdout",
     "output_type": "stream",
     "text": [
      "          rating    raters     score     votes\n",
      "rating  1.000000  0.106927  0.121987  0.119735\n",
      "raters  0.106927  1.000000  0.660867  0.662067\n",
      "score   0.121987  0.660867  1.000000  0.999667\n",
      "votes   0.119735  0.662067  0.999667  1.000000\n"
     ]
    }
   ],
   "source": [
    "# print coorelation table\n",
    "print(book_list_df.corr())"
   ]
  },
  {
   "cell_type": "code",
   "execution_count": 82,
   "metadata": {},
   "outputs": [
    {
     "data": {
      "image/png": "[encoded data removed]",
      "text/plain": [
       "<Figure size 432x288 with 2 Axes>"
      ]
     },
     "metadata": {
      "needs_background": "light"
     },
     "output_type": "display_data"
    }
   ],
   "source": [
    "import matplotlib.pyplot as plt\n",
    "import seaborn as sb\n",
    "\n",
    "# plotting correlation heatmap\n",
    "dataplot = sb.heatmap(book_list_df.corr(), cmap=\"YlGnBu\", annot=True)\n",
    "\n",
    "# displaying heatmap\n",
    "plt.show()"
   ]
  },
  {
   "cell_type": "markdown",
   "metadata": {},
   "source": [
    "We can see some corelation between Score and Raters, and Score and Voters.\n",
    "\n",
    "However it it too early to conclude anything without deeper investigating. Which we will do in future."
   ]
  },
  {
   "cell_type": "markdown",
   "metadata": {},
   "source": [
    "## Summary \n",
    "\n",
    "Listed top 500 book titles and related details from [goodreads](https://www.goodreads.com/list/show/1.Best_Books_Ever?page=1) using Python BueatifulSoup and Requests library.\n",
    "\n",
    "For each title, we chose **8 interesting attributes** to scrape - book title, author, rating, no of ratings, votes, number of voters, book title url and auther url. \n",
    "\n",
    "In a page, there are 100 book titles. We have created a `dictionary` data structure for each book with these 8 attributes as `lists`. \n",
    "We have looped through all the 100 books in the page, one at a time, to extract and append all the 8 attributes to their respective `list`. This way, we have compiled the information of 8 attributes for 100 titles in a single page.\n",
    "\n",
    "After that, we have repeated this process over next 4 pages by concatenating 100 new book `dictionary` entry from every page.\n",
    "\n",
    "End the end, we convert the `dictionary` of 500 books to a `dataframe` for analysis, and convert it to CSV file format to upload to the project directory. "
   ]
  },
  {
   "cell_type": "markdown",
   "metadata": {},
   "source": [
    "## Future Work\n",
    "1. Refactor the code and optimize the fucntions further. \n",
    "2. Add new attributes like Book Description, About the Author. \n",
    "3. Go to each book page, and get more details like ISBN, pages, language, Awards etc.\n",
    "4. Explore this data and find some interesting insights."
   ]
  },
  {
   "cell_type": "markdown",
   "metadata": {},
   "source": [
    "## References\n",
    "\n",
    "1. [Stackoverflow](https://stackoverflow.com)\n",
    "2. [Geeksforgeeks](https://www.geeksforgeeks.org)\n",
    "3. [Medium](https://medium.com)\n",
    "4. [Jovian - Featured Projects](https://jovian.ai/learn/zero-to-data-analyst-bootcamp/assignment/project-web-scraping-with-python/featured)"
   ]
  },
  {
   "cell_type": "code",
   "execution_count": 74,
   "metadata": {},
   "outputs": [
    {
     "data": {
      "application/javascript": [
       "window.require && require([\"base/js/namespace\"],function(Jupyter){Jupyter.notebook.save_checkpoint()})"
      ],
      "text/plain": [
       "<IPython.core.display.Javascript object>"
      ]
     },
     "metadata": {},
     "output_type": "display_data"
    },
    {
     "name": "stdout",
     "output_type": "stream",
     "text": [
      "[jovian] Updating notebook \"arindam-au/webscraping-goodreads\" on https://jovian.ai\u001b[0m\n",
      "[jovian] Uploading additional files...\u001b[0m\n",
      "[jovian] Committed successfully! https://jovian.ai/arindam-au/webscraping-goodreads\u001b[0m\n"
     ]
    },
    {
     "data": {
      "text/plain": [
       "'https://jovian.ai/arindam-au/webscraping-goodreads'"
      ]
     },
     "execution_count": 74,
     "metadata": {},
     "output_type": "execute_result"
    }
   ],
   "source": [
    "jovian.commit(files = ['book_list.csv'])"
   ]
  },
  {
   "cell_type": "code",
   "execution_count": null,
   "metadata": {},
   "outputs": [
    {
     "data": {
      "application/javascript": [
       "window.require && require([\"base/js/namespace\"],function(Jupyter){Jupyter.notebook.save_checkpoint()})"
      ],
      "text/plain": [
       "<IPython.core.display.Javascript object>"
      ]
     },
     "metadata": {},
     "output_type": "display_data"
    }
   ],
   "source": [
    "# Execute this to save new versions of the notebook\n",
    "jovian.commit(project=\"webscraping-goodreads\")"
   ]
  },
  {
   "cell_type": "code",
   "execution_count": null,
   "metadata": {},
   "outputs": [],
   "source": []
  }
 ],
 "metadata": {
  "kernelspec": {
   "display_name": "Python 3 (ipykernel)",
   "language": "python",
   "name": "python3"
  },
  "language_info": {
   "codemirror_mode": {
    "name": "ipython",
    "version": 3
   },
   "file_extension": ".py",
   "mimetype": "text/x-python",
   "name": "python",
   "nbconvert_exporter": "python",
   "pygments_lexer": "ipython3",
   "version": "3.9.6"
  }
 },
 "nbformat": 4,
 "nbformat_minor": 2
}
